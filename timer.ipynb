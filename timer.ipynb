{
 "cells": [
  {
   "cell_type": "code",
   "execution_count": 1,
   "metadata": {},
   "outputs": [],
   "source": [
    "import time"
   ]
  },
  {
   "cell_type": "code",
   "execution_count": 18,
   "metadata": {},
   "outputs": [],
   "source": [
    "class Timer:\n",
    "    def __init__(self):\n",
    "        self.delta_time = 0\n",
    "        self.time_start = None\n",
    "\n",
    "    def reset(self):\n",
    "        self.delta_time = 0\n",
    "        self.time_start = None\n",
    "\n",
    "    def start(self):\n",
    "        self.delta_time = 0\n",
    "        self.time_start = time.time()\n",
    "\n",
    "    def pause(self):\n",
    "        if self.time_start is not None:\n",
    "            cur_time = time.time()\n",
    "            self.delta_time += (cur_time - self.time_start)\n",
    "            self.time_start = None\n",
    "\n",
    "    def unpause(self):\n",
    "        if self.time_start is not None:\n",
    "            cur_time = time.time()\n",
    "            self.delta_time += (cur_time - self.time_start)\n",
    "            self.time_start = None\n",
    "\n",
    "    def stop(self):\n",
    "        if self.time_start is not None:\n",
    "            cur_time = time.time()\n",
    "            self.delta_time += (cur_time - self.time_start)\n",
    "        res = self.delta_time\n",
    "        self.reset()\n",
    "        return res\n"
   ]
  },
  {
   "cell_type": "code",
   "execution_count": 19,
   "metadata": {},
   "outputs": [],
   "source": [
    "t = Timer()"
   ]
  },
  {
   "cell_type": "code",
   "execution_count": 22,
   "metadata": {},
   "outputs": [],
   "source": [
    "t.start()"
   ]
  },
  {
   "cell_type": "code",
   "execution_count": 25,
   "metadata": {},
   "outputs": [
    {
     "data": {
      "text/plain": [
       "0"
      ]
     },
     "execution_count": 25,
     "metadata": {},
     "output_type": "execute_result"
    }
   ],
   "source": [
    "t.stop()"
   ]
  },
  {
   "cell_type": "code",
   "execution_count": null,
   "metadata": {},
   "outputs": [],
   "source": []
  }
 ],
 "metadata": {
  "kernelspec": {
   "display_name": ".venv",
   "language": "python",
   "name": "python3"
  },
  "language_info": {
   "codemirror_mode": {
    "name": "ipython",
    "version": 3
   },
   "file_extension": ".py",
   "mimetype": "text/x-python",
   "name": "python",
   "nbconvert_exporter": "python",
   "pygments_lexer": "ipython3",
   "version": "3.12.3"
  }
 },
 "nbformat": 4,
 "nbformat_minor": 2
}
