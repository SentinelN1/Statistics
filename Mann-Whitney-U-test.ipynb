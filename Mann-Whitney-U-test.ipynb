{
 "cells": [
  {
   "cell_type": "code",
   "execution_count": 1,
   "metadata": {},
   "outputs": [],
   "source": [
    "import numpy as np\n",
    "import matplotlib.pyplot as plt\n",
    "from scipy import stats"
   ]
  },
  {
   "cell_type": "code",
   "execution_count": 59,
   "metadata": {},
   "outputs": [],
   "source": [
    "# Sample sizes\n",
    "n = 200\n",
    "m = 120"
   ]
  },
  {
   "cell_type": "code",
   "execution_count": 60,
   "metadata": {},
   "outputs": [],
   "source": [
    "# Generate samples\n",
    "x = np.random.normal(size=n)\n",
    "y = np.random.normal(size=m)"
   ]
  },
  {
   "cell_type": "code",
   "execution_count": 83,
   "metadata": {},
   "outputs": [],
   "source": [
    "def Mann_Whitney(a, b):\n",
    "    n = np.size(a)\n",
    "    m = np.size(b)\n",
    "\n",
    "    a_sorted = np.sort(a)\n",
    "    b_sorted = np.sort(b)\n",
    "\n",
    "    R1 = 0\n",
    "    R2 = 0\n",
    "\n",
    "    i = 0\n",
    "    j = 0\n",
    "    r = 1\n",
    "\n",
    "    while i < n and j < m:\n",
    "        a_val = a_sorted[i]\n",
    "        b_val = b_sorted[j]\n",
    "\n",
    "        if a_val < b_val:\n",
    "            R1 += r\n",
    "            i += 1\n",
    "        \n",
    "        elif a_val > b_val:\n",
    "            R2 += r\n",
    "            j += 1\n",
    "        \n",
    "        r += 1\n",
    "\n",
    "    while i < n:\n",
    "        R1 += r\n",
    "        i += 1\n",
    "        r += 1\n",
    "\n",
    "    while j < m:\n",
    "        R2 += r\n",
    "        j += 1\n",
    "        r += 1\n",
    "\n",
    "    print(R1, R2)\n",
    "\n",
    "    # U1 = n * m + m * (m + 1) / 2 - R2\n",
    "    # U2 = n * m - n * (n + 1) / 2 - R1\n",
    "\n",
    "    # U1 = R1 - n * (n + 1) / 2\n",
    "    # U2 = R2 - m * (m + 1) / 2\n",
    "\n",
    "    U1 = R1 - n * (n + 1) / 2\n",
    "    U2 = n * m - U1\n",
    "    print(U1, U2)\n",
    "    U = min(U1, U2)\n",
    "\n",
    "    mu = n * m / 2\n",
    "    sigma = np.sqrt(n * m * (n + m + 1) / 12)\n",
    "    z = (U - mu) / sigma\n",
    "    return z"
   ]
  },
  {
   "cell_type": "code",
   "execution_count": 84,
   "metadata": {},
   "outputs": [],
   "source": [
    "a = [540, 670, 1000, 960, 1200, 4650, 4200]\n",
    "b = [5000, 6100, 1300, 900, 7400, 4500, 7500]"
   ]
  },
  {
   "cell_type": "code",
   "execution_count": 85,
   "metadata": {},
   "outputs": [
    {
     "name": "stdout",
     "output_type": "stream",
     "text": [
      "32801 18559\n",
      "12701.0 11299.0\n"
     ]
    },
    {
     "data": {
      "text/plain": [
       "-0.8748840599645545"
      ]
     },
     "execution_count": 85,
     "metadata": {},
     "output_type": "execute_result"
    }
   ],
   "source": [
    "Mann_Whitney(x, y)"
   ]
  },
  {
   "cell_type": "code",
   "execution_count": null,
   "metadata": {},
   "outputs": [],
   "source": []
  }
 ],
 "metadata": {
  "kernelspec": {
   "display_name": "Python 3",
   "language": "python",
   "name": "python3"
  },
  "language_info": {
   "codemirror_mode": {
    "name": "ipython",
    "version": 3
   },
   "file_extension": ".py",
   "mimetype": "text/x-python",
   "name": "python",
   "nbconvert_exporter": "python",
   "pygments_lexer": "ipython3",
   "version": "3.12.3"
  }
 },
 "nbformat": 4,
 "nbformat_minor": 2
}
